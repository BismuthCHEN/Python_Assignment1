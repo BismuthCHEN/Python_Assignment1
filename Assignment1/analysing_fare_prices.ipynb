{
 "cells": [
  {
   "cell_type": "markdown",
   "id": "79b9d575",
   "metadata": {},
   "source": [
    "# Analysing Fare Prices\n",
    "\n",
    "This notebook contains a sample workflow that you are planning to run to test your hypothesis about the price of train fares across the UK network.\n",
    "\n",
    "The workflow is split across multiple cells, with the commands in each grouped by their functionality and order of appearance in the assignment.\n",
    "You do not have to write the functions in this order, however know that cells lower down in the workflow may depend on those closer to the top!"
   ]
  },
  {
   "cell_type": "code",
   "execution_count": 3,
   "id": "1a6df4cc-bb06-4e4b-acea-2de55c3e26ce",
   "metadata": {
    "tags": []
   },
   "outputs": [],
   "source": [
    "from railway import Station, RailNetwork\n",
    "from utilities import read_rail_network\n",
    "\n",
    "edinburgh_park = Station(\"Edinburgh Park\", \"Scotland\", \"EDP\", 55.927615, -3.307829, False)"
   ]
  },
  {
   "cell_type": "code",
   "execution_count": 4,
   "id": "d594549f-a5b2-481f-9db3-40ce7a6a0c3b",
   "metadata": {
    "tags": []
   },
   "outputs": [
    {
     "name": "stdout",
     "output_type": "stream",
     "text": [
      "get in\n"
     ]
    }
   ],
   "source": [
    "from pathlib import Path\n",
    "\n",
    "network_csv = Path(\"uk_stations.csv\")\n",
    "rail_network = read_rail_network(network_csv)"
   ]
  },
  {
   "cell_type": "code",
   "execution_count": 5,
   "id": "6b421e0d-02bc-4788-9d5a-c7b94f7a00e8",
   "metadata": {},
   "outputs": [
    {
     "name": "stdout",
     "output_type": "stream",
     "text": [
      "There are <bound method RailNetwork.n_stations of <railway.RailNetwork object at 0x000001E56A100340>> stations in the network\n",
      "These are the regions: <bound method RailNetwork.regions of <railway.RailNetwork object at 0x000001E56A100340>>\n"
     ]
    },
    {
     "ename": "TypeError",
     "evalue": "'method' object is not iterable",
     "output_type": "error",
     "traceback": [
      "\u001b[1;31m---------------------------------------------------------------------------\u001b[0m",
      "\u001b[1;31mTypeError\u001b[0m                                 Traceback (most recent call last)",
      "\u001b[1;32m~\\AppData\\Local\\Temp/ipykernel_16920/2385107362.py\u001b[0m in \u001b[0;36m<module>\u001b[1;34m\u001b[0m\n\u001b[0;32m      5\u001b[0m \u001b[1;31m# After implementing the regions method for rail network,\u001b[0m\u001b[1;33m\u001b[0m\u001b[1;33m\u001b[0m\u001b[0m\n\u001b[0;32m      6\u001b[0m \u001b[1;31m# the plot_network() command will work.\u001b[0m\u001b[1;33m\u001b[0m\u001b[1;33m\u001b[0m\u001b[0m\n\u001b[1;32m----> 7\u001b[1;33m \u001b[0mrail_network\u001b[0m\u001b[1;33m.\u001b[0m\u001b[0mplot_network\u001b[0m\u001b[1;33m(\u001b[0m\u001b[1;33m)\u001b[0m\u001b[1;33m\u001b[0m\u001b[1;33m\u001b[0m\u001b[0m\n\u001b[0m",
      "\u001b[1;32md:\\pg_python\\python_assignment1\\Assignment1\\railway.py\u001b[0m in \u001b[0;36mplot_network\u001b[1;34m(self, marker_size)\u001b[0m\n\u001b[0;32m    167\u001b[0m         \u001b[0mMARKERS\u001b[0m \u001b[1;33m=\u001b[0m \u001b[1;33m[\u001b[0m\u001b[1;34m\".\"\u001b[0m\u001b[1;33m,\u001b[0m \u001b[1;34m\"o\"\u001b[0m\u001b[1;33m,\u001b[0m \u001b[1;34m\"x\"\u001b[0m\u001b[1;33m,\u001b[0m \u001b[1;34m\"*\"\u001b[0m\u001b[1;33m,\u001b[0m \u001b[1;34m\"+\"\u001b[0m\u001b[1;33m]\u001b[0m\u001b[1;33m\u001b[0m\u001b[1;33m\u001b[0m\u001b[0m\n\u001b[0;32m    168\u001b[0m \u001b[1;33m\u001b[0m\u001b[0m\n\u001b[1;32m--> 169\u001b[1;33m         \u001b[1;32mfor\u001b[0m \u001b[0mi\u001b[0m\u001b[1;33m,\u001b[0m \u001b[0mr\u001b[0m \u001b[1;32min\u001b[0m \u001b[0menumerate\u001b[0m\u001b[1;33m(\u001b[0m\u001b[0mself\u001b[0m\u001b[1;33m.\u001b[0m\u001b[0mregions\u001b[0m\u001b[1;33m)\u001b[0m\u001b[1;33m:\u001b[0m\u001b[1;33m\u001b[0m\u001b[1;33m\u001b[0m\u001b[0m\n\u001b[0m\u001b[0;32m    170\u001b[0m             \u001b[0mlats\u001b[0m \u001b[1;33m=\u001b[0m \u001b[1;33m[\u001b[0m\u001b[0ms\u001b[0m\u001b[1;33m.\u001b[0m\u001b[0mlat\u001b[0m \u001b[1;32mfor\u001b[0m \u001b[0ms\u001b[0m \u001b[1;32min\u001b[0m \u001b[0mself\u001b[0m\u001b[1;33m.\u001b[0m\u001b[0mstations\u001b[0m\u001b[1;33m.\u001b[0m\u001b[0mvalues\u001b[0m\u001b[1;33m(\u001b[0m\u001b[1;33m)\u001b[0m \u001b[1;32mif\u001b[0m \u001b[0ms\u001b[0m\u001b[1;33m.\u001b[0m\u001b[0mregion\u001b[0m \u001b[1;33m==\u001b[0m \u001b[0mr\u001b[0m\u001b[1;33m]\u001b[0m\u001b[1;33m\u001b[0m\u001b[1;33m\u001b[0m\u001b[0m\n\u001b[0;32m    171\u001b[0m             \u001b[0mlons\u001b[0m \u001b[1;33m=\u001b[0m \u001b[1;33m[\u001b[0m\u001b[0ms\u001b[0m\u001b[1;33m.\u001b[0m\u001b[0mlon\u001b[0m \u001b[1;32mfor\u001b[0m \u001b[0ms\u001b[0m \u001b[1;32min\u001b[0m \u001b[0mself\u001b[0m\u001b[1;33m.\u001b[0m\u001b[0mstations\u001b[0m\u001b[1;33m.\u001b[0m\u001b[0mvalues\u001b[0m\u001b[1;33m(\u001b[0m\u001b[1;33m)\u001b[0m \u001b[1;32mif\u001b[0m \u001b[0ms\u001b[0m\u001b[1;33m.\u001b[0m\u001b[0mregion\u001b[0m \u001b[1;33m==\u001b[0m \u001b[0mr\u001b[0m\u001b[1;33m]\u001b[0m\u001b[1;33m\u001b[0m\u001b[1;33m\u001b[0m\u001b[0m\n",
      "\u001b[1;31mTypeError\u001b[0m: 'method' object is not iterable"
     ]
    },
    {
     "data": {
      "image/png": "[encoded data removed]",
      "text/plain": [
       "<Figure size 360x720 with 1 Axes>"
      ]
     },
     "metadata": {
      "needs_background": "light"
     },
     "output_type": "display_data"
    }
   ],
   "source": [
    "print(f\"There are {rail_network.n_stations} stations in the network\")\n",
    "\n",
    "print(f\"These are the regions: {rail_network.regions}\")\n",
    "\n",
    "# After implementing the regions method for rail network,\n",
    "# the plot_network() command will work.\n",
    "rail_network.plot_network()"
   ]
  },
  {
   "cell_type": "code",
   "execution_count": 6,
   "id": "19071954-8e0e-4946-8e63-befa594f904f",
   "metadata": {},
   "outputs": [
    {
     "name": "stdout",
     "output_type": "stream",
     "text": [
      "There are 41 hub stations in this network\n",
      "The hub closest to Edinburgh Park is Station(PTH-Perth/Scotland-hub)\n"
     ]
    }
   ],
   "source": [
    "print(f\"There are {len(rail_network.hub_stations())} hub stations in this network\")\n",
    "\n",
    "print(f\"The hub closest to Edinburgh Park is {rail_network.closest_hub(edinburgh_park)}\")"
   ]
  },
  {
   "cell_type": "code",
   "execution_count": null,
   "id": "453418a4-2d33-4216-af11-adbb36f93d2a",
   "metadata": {},
   "outputs": [],
   "source": [
    "print(f\"Journey from Edinburgh Park to Worthing: {rail_network.journey_planner('EDP', 'WRH')}\")\n",
    "\n",
    "# After implementing the journey_planner function, plot_journey() can be called\n",
    "rail_network.plot_journey(\"EDP\", \"WRH\")"
   ]
  },
  {
   "cell_type": "code",
   "execution_count": null,
   "id": "40cb66fc-e09d-4442-a77d-fcd08ffb5c85",
   "metadata": {},
   "outputs": [],
   "source": [
    "rail_network.journey_fare(\"EDP\", \"WRH\", summary=True)"
   ]
  },
  {
   "cell_type": "code",
   "execution_count": null,
   "id": "fda6b99a-4630-4dfd-a6d5-6cf23ca7acd7",
   "metadata": {},
   "outputs": [],
   "source": [
    "# The bins and fill options, as well as any other keywords provided to the method,\n",
    "# should also be passed to the hist() function.\n",
    "rail_network.plot_fares_to(\"BRI\", save=True, bins=20, fill=False)\n",
    "# This plot should not be saved to a file\n",
    "rail_network.plot_fares_to(\"BRI\", save=False, color=\"red\")"
   ]
  }
 ],
 "metadata": {
  "kernelspec": {
   "display_name": "Python 3 (ipykernel)",
   "language": "python",
   "name": "python3"
  },
  "language_info": {
   "codemirror_mode": {
    "name": "ipython",
    "version": 3
   },
   "file_extension": ".py",
   "mimetype": "text/x-python",
   "name": "python",
   "nbconvert_exporter": "python",
   "pygments_lexer": "ipython3",
   "version": "3.9.7"
  }
 },
 "nbformat": 4,
 "nbformat_minor": 5
}
