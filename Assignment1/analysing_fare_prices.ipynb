{
 "cells": [
  {
   "cell_type": "markdown",
   "id": "79b9d575",
   "metadata": {},
   "source": [
    "# Analysing Fare Prices\n",
    "\n",
    "This notebook contains a sample workflow that you are planning to run to test your hypothesis about the price of train fares across the UK network.\n",
    "\n",
    "The workflow is split across multiple cells, with the commands in each grouped by their functionality and order of appearance in the assignment.\n",
    "You do not have to write the functions in this order, however know that cells lower down in the workflow may depend on those closer to the top!"
   ]
  },
  {
   "cell_type": "code",
   "execution_count": 3,
   "id": "1a6df4cc-bb06-4e4b-acea-2de55c3e26ce",
   "metadata": {
    "tags": []
   },
   "outputs": [
    {
     "name": "stdout",
     "output_type": "stream",
     "text": [
      "Station(EDP-Edinburgh Park/Scotland)\n"
     ]
    }
   ],
   "source": [
    "from railway import Station, RailNetwork\n",
    "from utilities import read_rail_network\n",
    "\n",
    "edinburgh_park = Station(\"Edinburgh Park\", \"Scotland\", \"EDP\", 55.927615, -3.307829, False)\n",
    "print(edinburgh_park)"
   ]
  },
  {
   "cell_type": "code",
   "execution_count": 5,
   "id": "d594549f-a5b2-481f-9db3-40ce7a6a0c3b",
   "metadata": {
    "tags": []
   },
   "outputs": [
    {
     "name": "stdout",
     "output_type": "stream",
     "text": [
      "get in\n"
     ]
    },
    {
     "ename": "TypeError",
     "evalue": "'>' not supported between instances of 'str' and 'int'",
     "output_type": "error",
     "traceback": [
      "\u001b[1;31m---------------------------------------------------------------------------\u001b[0m",
      "\u001b[1;31mTypeError\u001b[0m                                 Traceback (most recent call last)",
      "\u001b[1;32m~\\AppData\\Local\\Temp/ipykernel_13140/3853417248.py\u001b[0m in \u001b[0;36m<module>\u001b[1;34m\u001b[0m\n\u001b[0;32m      2\u001b[0m \u001b[1;33m\u001b[0m\u001b[0m\n\u001b[0;32m      3\u001b[0m \u001b[0mnetwork_csv\u001b[0m \u001b[1;33m=\u001b[0m \u001b[0mPath\u001b[0m\u001b[1;33m(\u001b[0m\u001b[1;34m\"uk_stations.csv\"\u001b[0m\u001b[1;33m)\u001b[0m\u001b[1;33m\u001b[0m\u001b[1;33m\u001b[0m\u001b[0m\n\u001b[1;32m----> 4\u001b[1;33m \u001b[0mrail_network\u001b[0m \u001b[1;33m=\u001b[0m \u001b[0mread_rail_network\u001b[0m\u001b[1;33m(\u001b[0m\u001b[0mnetwork_csv\u001b[0m\u001b[1;33m)\u001b[0m\u001b[1;33m\u001b[0m\u001b[1;33m\u001b[0m\u001b[0m\n\u001b[0m\u001b[0;32m      5\u001b[0m \u001b[0mprint\u001b[0m\u001b[1;33m(\u001b[0m\u001b[0mrail_network\u001b[0m\u001b[1;33m)\u001b[0m\u001b[1;33m\u001b[0m\u001b[1;33m\u001b[0m\u001b[0m\n",
      "\u001b[1;32md:\\pg_python\\python_assignment1\\Assignment1\\utilities.py\u001b[0m in \u001b[0;36mread_rail_network\u001b[1;34m(filepath)\u001b[0m\n\u001b[0;32m     15\u001b[0m             \u001b[1;32mfor\u001b[0m \u001b[0mk\u001b[0m\u001b[1;33m,\u001b[0m \u001b[0mv\u001b[0m \u001b[1;32min\u001b[0m \u001b[0mi\u001b[0m\u001b[1;33m.\u001b[0m\u001b[0mitems\u001b[0m\u001b[1;33m(\u001b[0m\u001b[1;33m)\u001b[0m\u001b[1;33m:\u001b[0m\u001b[1;33m\u001b[0m\u001b[1;33m\u001b[0m\u001b[0m\n\u001b[0;32m     16\u001b[0m                 \u001b[0mst\u001b[0m\u001b[1;33m[\u001b[0m\u001b[0mk\u001b[0m\u001b[1;33m]\u001b[0m \u001b[1;33m=\u001b[0m \u001b[0mv\u001b[0m\u001b[1;33m\u001b[0m\u001b[1;33m\u001b[0m\u001b[0m\n\u001b[1;32m---> 17\u001b[1;33m             all_stations.append(Station(st[\"name\"], st[\"region\"], st[\"crs\"], \n\u001b[0m\u001b[0;32m     18\u001b[0m                                         st[\"latitude\"], st[\"longitude\"], int(st[\"hub\"])))\n\u001b[0;32m     19\u001b[0m \u001b[1;33m\u001b[0m\u001b[0m\n",
      "\u001b[1;32md:\\pg_python\\python_assignment1\\Assignment1\\railway.py\u001b[0m in \u001b[0;36m__init__\u001b[1;34m(self, name, region, crs, lati, longi, hub)\u001b[0m\n\u001b[0;32m     29\u001b[0m \u001b[1;33m\u001b[0m\u001b[0m\n\u001b[0;32m     30\u001b[0m         \u001b[1;31m# check number of latitue and longitude\u001b[0m\u001b[1;33m\u001b[0m\u001b[1;33m\u001b[0m\u001b[0m\n\u001b[1;32m---> 31\u001b[1;33m         \u001b[1;32mif\u001b[0m \u001b[0mlati\u001b[0m \u001b[1;33m>\u001b[0m \u001b[1;36m90\u001b[0m \u001b[1;32mor\u001b[0m \u001b[0mlati\u001b[0m \u001b[1;33m<\u001b[0m \u001b[1;33m-\u001b[0m\u001b[1;36m90\u001b[0m\u001b[1;33m:\u001b[0m\u001b[1;33m\u001b[0m\u001b[1;33m\u001b[0m\u001b[0m\n\u001b[0m\u001b[0;32m     32\u001b[0m             \u001b[0mprint\u001b[0m\u001b[1;33m(\u001b[0m\u001b[1;34m\"Length error for latitude\"\u001b[0m\u001b[1;33m)\u001b[0m\u001b[1;33m\u001b[0m\u001b[1;33m\u001b[0m\u001b[0m\n\u001b[0;32m     33\u001b[0m             \u001b[1;32mraise\u001b[0m \u001b[0mNotImplementedError\u001b[0m\u001b[1;33m\u001b[0m\u001b[1;33m\u001b[0m\u001b[0m\n",
      "\u001b[1;31mTypeError\u001b[0m: '>' not supported between instances of 'str' and 'int'"
     ]
    }
   ],
   "source": [
    "from pathlib import Path\n",
    "\n",
    "network_csv = Path(\"uk_stations.csv\")\n",
    "rail_network = read_rail_network(network_csv)\n",
    "print(rail_network)"
   ]
  },
  {
   "cell_type": "code",
   "execution_count": 6,
   "id": "6b421e0d-02bc-4788-9d5a-c7b94f7a00e8",
   "metadata": {},
   "outputs": [
    {
     "ename": "AttributeError",
     "evalue": "'list' object has no attribute 'n_stations'",
     "output_type": "error",
     "traceback": [
      "\u001b[1;31m---------------------------------------------------------------------------\u001b[0m",
      "\u001b[1;31mAttributeError\u001b[0m                            Traceback (most recent call last)",
      "\u001b[1;32m~\\AppData\\Local\\Temp/ipykernel_14252/2385107362.py\u001b[0m in \u001b[0;36m<module>\u001b[1;34m\u001b[0m\n\u001b[1;32m----> 1\u001b[1;33m \u001b[0mprint\u001b[0m\u001b[1;33m(\u001b[0m\u001b[1;34mf\"There are {rail_network.n_stations} stations in the network\"\u001b[0m\u001b[1;33m)\u001b[0m\u001b[1;33m\u001b[0m\u001b[1;33m\u001b[0m\u001b[0m\n\u001b[0m\u001b[0;32m      2\u001b[0m \u001b[1;33m\u001b[0m\u001b[0m\n\u001b[0;32m      3\u001b[0m \u001b[0mprint\u001b[0m\u001b[1;33m(\u001b[0m\u001b[1;34mf\"These are the regions: {rail_network.regions}\"\u001b[0m\u001b[1;33m)\u001b[0m\u001b[1;33m\u001b[0m\u001b[1;33m\u001b[0m\u001b[0m\n\u001b[0;32m      4\u001b[0m \u001b[1;33m\u001b[0m\u001b[0m\n\u001b[0;32m      5\u001b[0m \u001b[1;31m# After implementing the regions method for rail network,\u001b[0m\u001b[1;33m\u001b[0m\u001b[1;33m\u001b[0m\u001b[0m\n",
      "\u001b[1;31mAttributeError\u001b[0m: 'list' object has no attribute 'n_stations'"
     ]
    }
   ],
   "source": [
    "print(f\"There are {rail_network.n_stations} stations in the network\")\n",
    "\n",
    "print(f\"These are the regions: {rail_network.regions}\")\n",
    "\n",
    "# After implementing the regions method for rail network,\n",
    "# the plot_network() command will work.\n",
    "rail_network.plot_network()"
   ]
  },
  {
   "cell_type": "code",
   "execution_count": null,
   "id": "19071954-8e0e-4946-8e63-befa594f904f",
   "metadata": {},
   "outputs": [],
   "source": [
    "print(f\"There are {len(rail_network.hub_stations())} hub stations in this network\")\n",
    "\n",
    "print(f\"The hub closest to Edinburgh Park is {rail_network.closest_hub(edinburgh_park)}\")"
   ]
  },
  {
   "cell_type": "code",
   "execution_count": null,
   "id": "453418a4-2d33-4216-af11-adbb36f93d2a",
   "metadata": {},
   "outputs": [],
   "source": [
    "print(f\"Journey from Edinburgh Park to Worthing: {rail_network.journey_planner('EDP', 'WRH')}\")\n",
    "\n",
    "# After implementing the journey_planner function, plot_journey() can be called\n",
    "rail_network.plot_journey(\"EDP\", \"WRH\")"
   ]
  },
  {
   "cell_type": "code",
   "execution_count": null,
   "id": "40cb66fc-e09d-4442-a77d-fcd08ffb5c85",
   "metadata": {},
   "outputs": [],
   "source": [
    "rail_network.journey_fare(\"EDP\", \"WRH\", summary=True)"
   ]
  },
  {
   "cell_type": "code",
   "execution_count": null,
   "id": "fda6b99a-4630-4dfd-a6d5-6cf23ca7acd7",
   "metadata": {},
   "outputs": [],
   "source": [
    "# The bins and fill options, as well as any other keywords provided to the method,\n",
    "# should also be passed to the hist() function.\n",
    "rail_network.plot_fares_to(\"BRI\", save=True, bins=20, fill=False)\n",
    "# This plot should not be saved to a file\n",
    "rail_network.plot_fares_to(\"BRI\", save=False, color=\"red\")"
   ]
  }
 ],
 "metadata": {
  "kernelspec": {
   "display_name": "Python 3 (ipykernel)",
   "language": "python",
   "name": "python3"
  },
  "language_info": {
   "codemirror_mode": {
    "name": "ipython",
    "version": 3
   },
   "file_extension": ".py",
   "mimetype": "text/x-python",
   "name": "python",
   "nbconvert_exporter": "python",
   "pygments_lexer": "ipython3",
   "version": "3.9.7"
  }
 },
 "nbformat": 4,
 "nbformat_minor": 5
}
